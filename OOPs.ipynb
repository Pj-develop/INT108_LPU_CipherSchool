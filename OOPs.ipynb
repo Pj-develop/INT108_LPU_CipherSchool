{
  "nbformat": 4,
  "nbformat_minor": 0,
  "metadata": {
    "colab": {
      "provenance": [],
      "authorship_tag": "ABX9TyMsHP4Q/MGHQf98Aq1piL1G",
      "include_colab_link": true
    },
    "kernelspec": {
      "name": "python3",
      "display_name": "Python 3"
    },
    "language_info": {
      "name": "python"
    }
  },
  "cells": [
    {
      "cell_type": "markdown",
      "metadata": {
        "id": "view-in-github",
        "colab_type": "text"
      },
      "source": [
        "<a href=\"https://colab.research.google.com/github/Pj-develop/INT108_LPU_CipherSchool/blob/main/OOPs.ipynb\" target=\"_parent\"><img src=\"https://colab.research.google.com/assets/colab-badge.svg\" alt=\"Open In Colab\"/></a>"
      ]
    },
    {
      "cell_type": "code",
      "execution_count": null,
      "metadata": {
        "id": "FbLhnHrzGiiB"
      },
      "outputs": [],
      "source": [
        "#Object Oriented Programmings, OOPs\n",
        "'''1. Abstraction : To get the function n application intead of working of function \n",
        "2. Enacapsulation : Warpping multiple amount of data in classes so that group of Obj. can be accessed\n",
        "3. Polymorphism : When Same thing , can used in mutiple way and can be transformed in into mutiple forms like functions \n",
        "4. Inheritance :  Father n Sons relation and acquiring traits from parents object'''\n",
        "#CLass\n",
        "# Object "
      ]
    }
  ]
}