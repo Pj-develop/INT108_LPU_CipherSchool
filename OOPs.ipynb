{
  "nbformat": 4,
  "nbformat_minor": 0,
  "metadata": {
    "colab": {
      "provenance": [],
      "authorship_tag": "ABX9TyPpufV+6m2QdSwSOvk287Fv",
      "include_colab_link": true
    },
    "kernelspec": {
      "name": "python3",
      "display_name": "Python 3"
    },
    "language_info": {
      "name": "python"
    }
  },
  "cells": [
    {
      "cell_type": "markdown",
      "metadata": {
        "id": "view-in-github",
        "colab_type": "text"
      },
      "source": [
        "<a href=\"https://colab.research.google.com/github/Pj-develop/INT108_LPU_CipherSchool/blob/main/OOPs.ipynb\" target=\"_parent\"><img src=\"https://colab.research.google.com/assets/colab-badge.svg\" alt=\"Open In Colab\"/></a>"
      ]
    },
    {
      "cell_type": "code",
      "execution_count": 2,
      "metadata": {
        "colab": {
          "base_uri": "https://localhost:8080/"
        },
        "id": "FbLhnHrzGiiB",
        "outputId": "0972ccb9-88f7-4acc-820c-d50d52636309"
      },
      "outputs": [
        {
          "output_type": "stream",
          "name": "stdout",
          "text": [
            "10\n"
          ]
        }
      ],
      "source": [
        "#Object Oriented Programmings, OOPs\n",
        "'''1. Abstraction : To get the function n application intead of working of function \n",
        "2. Enacapsulation : Warpping multiple amount of data in classes so that group of Obj. can be accessed\n",
        "3. Polymorphism : When Same thing , can used in mutiple way and can be transformed in into mutiple forms like functions \n",
        "4. Inheritance :  Father n Sons relation and acquiring traits from parents object'''\n",
        "#CLass: collection of objects\n",
        "#Object:thingd which has attribute n behavior  \n",
        "#h.M: LAMBDA,MAP, REDUCE, FIFLTER\n",
        "\n",
        "class Car:\n",
        "   h=10\n",
        "\n",
        "tiago=Car()# Class creation Objection cration\n",
        "nano=Car()\n",
        "print(tiago.h)\n",
        "print(nano.h) # class accessing\n",
        "\n"
      ]
    },
    {
      "cell_type": "code",
      "source": [
        "class Student:\n",
        "  def __init__(self,name,reg):\n",
        "    self.name=name\n",
        "    self.reg=reg\n",
        "  \n",
        "  def pr(self):\n",
        "    print(\"Hello my name is \"+self.name)\n",
        "  \n",
        "s1= Student(\"Anurag\", 4115007)\n",
        "s2=Student(\"PJ\",12219605)\n",
        "print(s1.name)\n",
        "print(s1.reg)\n"
      ],
      "metadata": {
        "colab": {
          "base_uri": "https://localhost:8080/"
        },
        "id": "it3hB8L6ohci",
        "outputId": "81d8ea75-3eb1-4ad4-f723-ced610241192"
      },
      "execution_count": 4,
      "outputs": [
        {
          "output_type": "stream",
          "name": "stdout",
          "text": [
            "Anurag\n",
            "4115007\n"
          ]
        }
      ]
    },
    {
      "cell_type": "code",
      "source": [
        "class Student:\n",
        "  def __init__(self,name,reg):\n",
        "    self.name=name\n",
        "    self.reg=reg\n",
        "  \n",
        "  def pr(self):\n",
        "    print(\"Hello my name is \"+self.name)\n",
        "  def MR(self,name,reg):\n",
        "    print(\"Hello my name is \"+self.name)\n",
        "  \n",
        "S1= Student(\"PJ\", 4115007)\n",
        "S2= Student(\"DJ\", 4117007)\n",
        "S1.pr()\n",
        "print(S1.name,S2.name)\n"
      ],
      "metadata": {
        "colab": {
          "base_uri": "https://localhost:8080/"
        },
        "id": "3LHJA3Qcw4A2",
        "outputId": "b4686212-9d57-4a44-c019-600b6e557dcb"
      },
      "execution_count": 8,
      "outputs": [
        {
          "output_type": "stream",
          "name": "stdout",
          "text": [
            "Hello my name is PJ\n",
            "PJ DJ\n"
          ]
        }
      ]
    }
  ]
}