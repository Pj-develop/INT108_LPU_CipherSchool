{
  "nbformat": 4,
  "nbformat_minor": 0,
  "metadata": {
    "colab": {
      "provenance": [],
      "authorship_tag": "ABX9TyPneKVZK2K51i51wZm+pTh1",
      "include_colab_link": true
    },
    "kernelspec": {
      "name": "python3",
      "display_name": "Python 3"
    },
    "language_info": {
      "name": "python"
    }
  },
  "cells": [
    {
      "cell_type": "markdown",
      "metadata": {
        "id": "view-in-github",
        "colab_type": "text"
      },
      "source": [
        "<a href=\"https://colab.research.google.com/github/Pj-develop/INT108_LPU_CipherSchool/blob/main/OOPS_Class2.ipynb\" target=\"_parent\"><img src=\"https://colab.research.google.com/assets/colab-badge.svg\" alt=\"Open In Colab\"/></a>"
      ]
    },
    {
      "cell_type": "markdown",
      "source": [],
      "metadata": {
        "id": "1OlEbKWqGmtT"
      }
    },
    {
      "cell_type": "markdown",
      "source": [
        "Inheritance: CLASS N OBJ "
      ],
      "metadata": {
        "id": "HYpmYna5Gt5X"
      }
    },
    {
      "cell_type": "code",
      "execution_count": 3,
      "metadata": {
        "colab": {
          "base_uri": "https://localhost:8080/"
        },
        "id": "eSPPnQW9GTl7",
        "outputId": "b15606b1-7e31-476c-f3bf-e29716885a99"
      },
      "outputs": [
        {
          "output_type": "stream",
          "name": "stdout",
          "text": [
            "PRIYANSHU JHA 21\n"
          ]
        }
      ],
      "source": [
        "#CLASS -OBJ INHERITANCE\n",
        "class Person:\n",
        "  def __init__(self,name,age):\n",
        "    self.name=name\n",
        "    self.age=age\n",
        "  \n",
        "  def display(self):\n",
        "    print(self.name,self.age)\n",
        "\n",
        "class Employee(Person):#INHERITANCE\n",
        "  pass\n",
        "\n",
        "a=Employee(\"PRIYANSHU JHA\",21)\n",
        "a.display()\n",
        "\n"
      ]
    },
    {
      "cell_type": "code",
      "source": [
        "class Person:\n",
        "  def __init__(self,name,age):\n",
        "    self.name=name\n",
        "    self.age=age\n",
        "  \n",
        "  def display(self):\n",
        "    print(self.name, self.age)\n",
        "\n",
        "class Employee(Person):\n",
        "  def __init__(self,name,age):\n",
        "    Person.__init__(self,name,age)\n",
        "  \n",
        "a=Employee(\"Anurag\",20)\n",
        "a.display()\n",
        "\n",
        "\n",
        "\n",
        "\n",
        "\n",
        "\n"
      ],
      "metadata": {
        "colab": {
          "base_uri": "https://localhost:8080/"
        },
        "id": "d3_aiN5tJmQD",
        "outputId": "509c7752-0438-4fd0-fe09-b62238c91c03"
      },
      "execution_count": 5,
      "outputs": [
        {
          "output_type": "stream",
          "name": "stdout",
          "text": [
            "Anurag 20\n"
          ]
        }
      ]
    },
    {
      "cell_type": "code",
      "source": [
        "class Person:\n",
        "  def __init__(self,name,age):\n",
        "    self.name=name\n",
        "    self.age=age\n",
        "  def display(self):\n",
        "    print(self.name,self.age)\n",
        "  \n",
        "class Employee(Person):\n",
        "  def __init__(self,name,age,year):\n",
        "    super().__init__(name,age)\n",
        "    self.year=year\n",
        "  \n",
        "  def welcome(self):\n",
        "    print(\"Welcome\",self.name,\"you are\",self.age,'years old and Yur joining year is',self.year)\n",
        "\n",
        "a=Employee(\"Priyashu Jha\", 20,2022)\n",
        "a.display()\n",
        "a.welcome()"
      ],
      "metadata": {
        "colab": {
          "base_uri": "https://localhost:8080/"
        },
        "id": "bBs74aeWmsZX",
        "outputId": "5ff5e91e-9b78-48f7-beba-0118d4552318"
      },
      "execution_count": 13,
      "outputs": [
        {
          "output_type": "stream",
          "name": "stdout",
          "text": [
            "Priyashu Jha 20\n",
            "Welcome Priyashu Jha you are 20 years old and Yur joining year is 2022\n"
          ]
        }
      ]
    },
    {
      "cell_type": "code",
      "source": [
        "class Animal:\n",
        "  def speak(self):\n",
        "    print(\"Animal is speaking\")\n",
        "\n",
        "class Dog(Animal):\n",
        "  def bark(self):\n",
        "    print(\"Dog is Barking\")\n",
        "\n",
        "class Puppy(Dog):\n",
        "  def eat(self):\n",
        "    print(\"Puppy is eating bread\")\n",
        "  \n",
        "a=Puppy()\n",
        "a.speak()\n",
        "a.bark()\n",
        "a.eat()"
      ],
      "metadata": {
        "colab": {
          "base_uri": "https://localhost:8080/"
        },
        "id": "05ORcePWmkCK",
        "outputId": "1cb79aff-409a-400f-c8ab-d1bc3c441372"
      },
      "execution_count": 15,
      "outputs": [
        {
          "output_type": "stream",
          "name": "stdout",
          "text": [
            "Animal is speaking\n",
            "Dog is Barking\n",
            "Puppy is eating bread\n"
          ]
        }
      ]
    },
    {
      "cell_type": "code",
      "source": [
        "class Calc1:\n",
        "  def add(self,a,b):\n",
        "    return a+b\n",
        "\n",
        "class Calc2:\n",
        "  def sub(self,a,b):\n",
        "    return a-b\n",
        "\n",
        "class Calc3:\n",
        "  def multi(self,a,b):\n",
        "    return a*b\n",
        "\n",
        "class Calc4:\n",
        "  def div(self,a,b):\n",
        "    return a/b\n",
        "\n",
        "class Calc5(Calc1,Calc2,Calc3,Calc4):\n",
        "  def mod(self,a,b):\n",
        "    return a%b\n",
        "\n",
        "a=int(input())\n",
        "b=int(input())\n",
        "cal=Calc5()\n",
        "print(cal.add(a,b))\n",
        "print(cal.sub(a,b))\n",
        "print(cal.div(a,b))\n",
        "print(cal.multi(a,b))\n",
        "print(cal.mod(a,b))"
      ],
      "metadata": {
        "colab": {
          "base_uri": "https://localhost:8080/"
        },
        "id": "xVTJl4mytqdN",
        "outputId": "5ea42562-5fa5-434c-a90c-91dee51bc20b"
      },
      "execution_count": 17,
      "outputs": [
        {
          "output_type": "stream",
          "name": "stdout",
          "text": [
            "20\n",
            "20\n",
            "40\n",
            "0\n",
            "1.0\n",
            "400\n",
            "0\n"
          ]
        }
      ]
    },
    {
      "cell_type": "code",
      "source": [],
      "metadata": {
        "id": "7qSOJcHLxvpu"
      },
      "execution_count": null,
      "outputs": []
    },
    {
      "cell_type": "markdown",
      "source": [],
      "metadata": {
        "id": "OwTWDLvcGkEY"
      }
    }
  ]
}