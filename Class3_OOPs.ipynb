{
  "nbformat": 4,
  "nbformat_minor": 0,
  "metadata": {
    "colab": {
      "provenance": [],
      "authorship_tag": "ABX9TyMNUr1eR++p8vne7dcUvCX2",
      "include_colab_link": true
    },
    "kernelspec": {
      "name": "python3",
      "display_name": "Python 3"
    },
    "language_info": {
      "name": "python"
    }
  },
  "cells": [
    {
      "cell_type": "markdown",
      "metadata": {
        "id": "view-in-github",
        "colab_type": "text"
      },
      "source": [
        "<a href=\"https://colab.research.google.com/github/Pj-develop/INT108_LPU_CipherSchool/blob/main/Class3_OOPs.ipynb\" target=\"_parent\"><img src=\"https://colab.research.google.com/assets/colab-badge.svg\" alt=\"Open In Colab\"/></a>"
      ]
    },
    {
      "cell_type": "code",
      "execution_count": 8,
      "metadata": {
        "colab": {
          "base_uri": "https://localhost:8080/"
        },
        "id": "Ko7-TxvN9Hjx",
        "outputId": "9f6c4dfe-07c7-4c64-e4e2-806d54c522aa"
      },
      "outputs": [
        {
          "output_type": "stream",
          "name": "stdout",
          "text": [
            "3\n",
            "hi this is the Bird class\n",
            "Most of the birds can fly\n",
            "hi this is the Bird class\n",
            "Parrot can Fly\n",
            "hi this is the Bird class\n",
            "Ostrich Cannot Fly\n"
          ]
        }
      ],
      "source": [
        "#polymorphism \n",
        "#example Len\n",
        "q=len(\"cipher\")\n",
        "q=len([1,2,3,4,5,6,7])\n",
        "\n",
        "def add(a,b,c=0):\n",
        "  return a+b+c\n",
        "\n",
        "print(add(1,2))\n",
        "\n",
        "#Polymorphism with Inheritance\n",
        "class Bird:\n",
        "  def intro(self):\n",
        "    print(\"hi this is the Bird class\")\n",
        "  def flight(self):\n",
        "    print(\"Most of the birds can fly\")\n",
        "\n",
        "class Parrot(Bird):\n",
        "  def flight(self):\n",
        "    print(\"Parrot can Fly\")\n",
        "  \n",
        "class Ostrich(Bird):\n",
        "  def flight(self):\n",
        "    print(\"Ostrich Cannot Fly\")\n",
        "  \n",
        "obj1=Bird()\n",
        "obj2=Parrot()\n",
        "obj3=Ostrich()\n",
        "\n",
        "obj1.intro()\n",
        "obj1.flight()\n",
        "\n",
        "obj2.intro()\n",
        "obj2.flight()\n",
        "\n",
        "obj3.intro()\n",
        "obj3.flight()\n",
        "\n",
        "\n"
      ]
    },
    {
      "cell_type": "code",
      "source": [
        "class India():\n",
        "  def capital(self):\n",
        "    print(\"New Delhi is the capital of India\")\n",
        "\n",
        "  def language(self):\n",
        "    print(\"Many languages are spoken In India\")\n",
        "\n",
        "class USA():\n",
        "  def capital(self):\n",
        "    print(\"Washington DC is the Capital of America\")\n",
        "  def language(self):\n",
        "    print(\"English is the primary Language spoken\")\n",
        "\n",
        "def test(obj):\n",
        "  obj.capital()\n",
        "  obj.language()\n",
        "\n",
        "obj1=India()\n",
        "obj2=USA()\n",
        "\n",
        "test(obj1)\n",
        "test(obj2)\n",
        "\n",
        "\n",
        "  \n",
        "\n"
      ],
      "metadata": {
        "colab": {
          "base_uri": "https://localhost:8080/"
        },
        "id": "-IcENebzLBbu",
        "outputId": "0aa011d1-9899-4919-80a4-78a347c95023"
      },
      "execution_count": 9,
      "outputs": [
        {
          "output_type": "stream",
          "name": "stdout",
          "text": [
            "New Delhi is the capital of India\n",
            "Many languages are spoken In India\n",
            "Washington DC is the Capital of America\n",
            "English is the primary Language spoken\n"
          ]
        }
      ]
    }
  ]
}